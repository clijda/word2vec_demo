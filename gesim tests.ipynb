{
 "metadata": {
  "name": "",
  "signature": "sha256:689908acbc772a5ed4011f505b6c60bd36e58c5121e205d18777178b1520fd19"
 },
 "nbformat": 3,
 "nbformat_minor": 0,
 "worksheets": [
  {
   "cells": [
    {
     "cell_type": "code",
     "collapsed": false,
     "input": [
      "from gensim.models.word2vec import Word2Vec"
     ],
     "language": "python",
     "metadata": {},
     "outputs": [],
     "prompt_number": 1
    },
    {
     "cell_type": "code",
     "collapsed": false,
     "input": [
      "ls"
     ],
     "language": "python",
     "metadata": {},
     "outputs": [
      {
       "output_type": "stream",
       "stream": "stdout",
       "text": [
        "GoogleNews-vectors-negative300.bin.gz  LICENSE                                Untitled0.ipynb\r\n"
       ]
      }
     ],
     "prompt_number": 2
    },
    {
     "cell_type": "code",
     "collapsed": false,
     "input": [
      "model = Word2Vec.load_word2vec_format('GoogleNews-vectors-negative300.bin.gz', binary=True)"
     ],
     "language": "python",
     "metadata": {},
     "outputs": [],
     "prompt_number": 3
    },
    {
     "cell_type": "code",
     "collapsed": false,
     "input": [
      "model.most_similar(positive=['woman', 'king'], negative=['man'])"
     ],
     "language": "python",
     "metadata": {},
     "outputs": [
      {
       "metadata": {},
       "output_type": "pyout",
       "prompt_number": 4,
       "text": [
        "[(u'queen', 0.7118192315101624),\n",
        " (u'monarch', 0.6189674139022827),\n",
        " (u'princess', 0.5902431011199951),\n",
        " (u'crown_prince', 0.5499460697174072),\n",
        " (u'prince', 0.5377321839332581),\n",
        " (u'kings', 0.5236843824386597),\n",
        " (u'Queen_Consort', 0.5235945582389832),\n",
        " (u'queens', 0.5181134939193726),\n",
        " (u'sultan', 0.5098593235015869),\n",
        " (u'monarchy', 0.5087411999702454)]"
       ]
      }
     ],
     "prompt_number": 4
    },
    {
     "cell_type": "code",
     "collapsed": false,
     "input": [
      "model.most_similar(positive=['kitten', 'dog'], negative=['cat'])"
     ],
     "language": "python",
     "metadata": {},
     "outputs": [
      {
       "metadata": {},
       "output_type": "pyout",
       "prompt_number": 9,
       "text": [
        "[(u'puppies', 0.7683367133140564),\n",
        " (u'puppy', 0.7005596160888672),\n",
        " (u'dog', 0.6906638145446777),\n",
        " (u'pups', 0.6765872240066528),\n",
        " (u'pup', 0.6471112370491028),\n",
        " (u'kitten', 0.6197421550750732),\n",
        " (u'pit_bulls', 0.6081045269966125),\n",
        " (u'canines', 0.6072684526443481),\n",
        " (u'pooches', 0.6060751080513),\n",
        " (u'stray_kittens', 0.5967546701431274)]"
       ]
      }
     ],
     "prompt_number": 9
    },
    {
     "cell_type": "code",
     "collapsed": false,
     "input": [
      "model.most_similar(positive=['biggest', 'small'], negative=['big'])"
     ],
     "language": "python",
     "metadata": {},
     "outputs": [
      {
       "metadata": {},
       "output_type": "pyout",
       "prompt_number": 11,
       "text": [
        "[(u'smallest', 0.6086567640304565),\n",
        " (u'largest', 0.6007466316223145),\n",
        " (u'tiny', 0.538729727268219),\n",
        " (u'large', 0.45694398880004883),\n",
        " (u'minuscule', 0.4340195059776306),\n",
        " (u'medium_sized', 0.42812949419021606),\n",
        " (u'secondlargest', 0.4263739585876465),\n",
        " (u'fastest_growing', 0.4198429584503174),\n",
        " (u'tiniest', 0.3970125913619995),\n",
        " (u'larget', 0.3921312093734741)]"
       ]
      }
     ],
     "prompt_number": 11
    },
    {
     "cell_type": "code",
     "collapsed": false,
     "input": [
      "model.most_similar(positive=['Greece', 'Oslo'], negative=['Athens'])"
     ],
     "language": "python",
     "metadata": {},
     "outputs": [
      {
       "metadata": {},
       "output_type": "pyout",
       "prompt_number": 12,
       "text": [
        "[(u'Norway', 0.6470743417739868),\n",
        " (u'Norwegian', 0.5828857421875),\n",
        " (u'Iceland', 0.5642152428627014),\n",
        " (u'Oslo_Norway', 0.5259366035461426),\n",
        " (u'Sweden', 0.5139011144638062),\n",
        " (u'Denmark', 0.5110613107681274),\n",
        " (u'Norwegians', 0.5076724886894226),\n",
        " (u'DnB_NOR_ASA', 0.5041865706443787),\n",
        " (u'Scandinavia', 0.4973710775375366),\n",
        " (u'Geir', 0.4958716630935669)]"
       ]
      }
     ],
     "prompt_number": 12
    },
    {
     "cell_type": "code",
     "collapsed": false,
     "input": [
      "model.most_similar(positive=['sister', 'grandson'], negative=['brother'])"
     ],
     "language": "python",
     "metadata": {},
     "outputs": [
      {
       "metadata": {},
       "output_type": "pyout",
       "prompt_number": 14,
       "text": [
        "[(u'granddaughter', 0.8571423888206482),\n",
        " (u'niece', 0.7652388215065002),\n",
        " (u'daughter', 0.7484132051467896),\n",
        " (u'granddaughters', 0.7268373370170593),\n",
        " (u'grandmother', 0.7173601388931274),\n",
        " (u'grandaughter', 0.7067251801490784),\n",
        " (u'mother', 0.6842734813690186),\n",
        " (u'aunt', 0.6822428107261658),\n",
        " (u'grandchild', 0.6610905528068542),\n",
        " (u'eldest_daughter', 0.6484787464141846)]"
       ]
      }
     ],
     "prompt_number": 14
    },
    {
     "cell_type": "code",
     "collapsed": false,
     "input": [
      "model.most_similar(positive=['Paris', 'Italy'], negative=['France'])"
     ],
     "language": "python",
     "metadata": {},
     "outputs": [
      {
       "metadata": {},
       "output_type": "pyout",
       "prompt_number": 17,
       "text": [
        "[(u'Milan', 0.7222141623497009),\n",
        " (u'Rome', 0.702830970287323),\n",
        " (u'Palermo_Sicily', 0.5967569947242737),\n",
        " (u'Italian', 0.5911272764205933),\n",
        " (u'Tuscany', 0.5632812976837158),\n",
        " (u'Bologna', 0.5608358383178711),\n",
        " (u'Sicily', 0.559638500213623),\n",
        " (u'Bologna_Italy', 0.5470058917999268),\n",
        " (u'Berna_Milan', 0.5464028120040894),\n",
        " (u'Genoa', 0.5308900475502014)]"
       ]
      }
     ],
     "prompt_number": 17
    },
    {
     "cell_type": "code",
     "collapsed": false,
     "input": [
      "model.most_similar(positive=['Paris', 'Japan'], negative=['France'])"
     ],
     "language": "python",
     "metadata": {},
     "outputs": [
      {
       "metadata": {},
       "output_type": "pyout",
       "prompt_number": 18,
       "text": [
        "[(u'Tokyo', 0.8142861127853394),\n",
        " (u'Toyko', 0.6596698760986328),\n",
        " (u'Osaka', 0.6350962519645691),\n",
        " (u'Nagoya', 0.6258590221405029),\n",
        " (u'Seoul', 0.6054927110671997),\n",
        " (u'Japanese', 0.5919331908226013),\n",
        " (u'Yokohama', 0.590090274810791),\n",
        " (u'Osaka_Japan', 0.585975170135498),\n",
        " (u'Takamatsu', 0.57918381690979),\n",
        " (u'Fukuoka', 0.5664029121398926)]"
       ]
      }
     ],
     "prompt_number": 18
    },
    {
     "cell_type": "code",
     "collapsed": false,
     "input": [
      "model.most_similar(positive=['Paris', 'Florida'], negative=['France'])"
     ],
     "language": "python",
     "metadata": {},
     "outputs": [
      {
       "metadata": {},
       "output_type": "pyout",
       "prompt_number": 19,
       "text": [
        "[(u'Tampa', 0.6697602272033691),\n",
        " (u'Miami', 0.6562283039093018),\n",
        " (u'Tallahassee', 0.6444566249847412),\n",
        " (u'Fort_Lauderdale', 0.6304841041564941),\n",
        " (u'West_Palm_Beach', 0.6073595285415649),\n",
        " (u'Flordia', 0.606468141078949),\n",
        " (u'Sarasota', 0.591431736946106),\n",
        " (u'Palm_Beach', 0.5843766927719116),\n",
        " (u'Orlando', 0.5825119018554688),\n",
        " (u'Coral_Gables', 0.5789375305175781)]"
       ]
      }
     ],
     "prompt_number": 19
    },
    {
     "cell_type": "code",
     "collapsed": false,
     "input": [
      "model.most_similar(positive=['scientist', 'Messi'], negative=['Einstein'])"
     ],
     "language": "python",
     "metadata": {},
     "outputs": [
      {
       "metadata": {},
       "output_type": "pyout",
       "prompt_number": 20,
       "text": [
        "[(u'midfielder_Andres_Iniesta', 0.4764716625213623),\n",
        " (u'Ronaldinho', 0.4583863615989685),\n",
        " (u\"Eto'o\", 0.4565759301185608),\n",
        " (u'Forlan', 0.4553895592689514),\n",
        " (u'defender_Maicon', 0.4524889886379242),\n",
        " (u'Ronaldo', 0.44839489459991455),\n",
        " (u'defender_Roberto_Ayala', 0.4477323591709137),\n",
        " (u'Iniesta', 0.44773223996162415),\n",
        " (u'midfielder_Xavi', 0.4415304660797119),\n",
        " (u'Barca', 0.4403415322303772)]"
       ]
      }
     ],
     "prompt_number": 20
    },
    {
     "cell_type": "code",
     "collapsed": false,
     "input": [
      "model.most_similar(positive=['scientist', 'Mozart'], negative=['Einstein'])"
     ],
     "language": "python",
     "metadata": {},
     "outputs": [
      {
       "metadata": {},
       "output_type": "pyout",
       "prompt_number": 21,
       "text": [
        "[(u'composer', 0.5571082234382629),\n",
        " (u'researcher', 0.5302102565765381),\n",
        " (u'biologist', 0.527501106262207),\n",
        " (u'cellist', 0.5128622055053711),\n",
        " (u'pianist', 0.5066509246826172),\n",
        " (u'microbiologist', 0.49905431270599365),\n",
        " (u'cello_soloist', 0.4963686466217041),\n",
        " (u'violinist', 0.4921690821647644),\n",
        " (u'soprano', 0.485787034034729),\n",
        " (u'Chamber_Orchestra', 0.4776730537414551)]"
       ]
      }
     ],
     "prompt_number": 21
    },
    {
     "cell_type": "code",
     "collapsed": false,
     "input": [
      "model.most_similar(positive=['scientist', 'Picasso'], negative=['Einstein'])"
     ],
     "language": "python",
     "metadata": {},
     "outputs": [
      {
       "metadata": {},
       "output_type": "pyout",
       "prompt_number": 22,
       "text": [
        "[(u'painter', 0.5553721189498901),\n",
        " (u'biologist', 0.5007843375205994),\n",
        " (u'researcher', 0.49448227882385254),\n",
        " (u'ecologist', 0.48325473070144653),\n",
        " (u'marine_biologist', 0.47954514622688293),\n",
        " (u'sculptor', 0.4630447328090668),\n",
        " (u'artist', 0.4621543288230896),\n",
        " (u'muralist', 0.45358774065971375),\n",
        " (u'archaeologist', 0.4479282796382904),\n",
        " (u'ceramist', 0.4460166096687317)]"
       ]
      }
     ],
     "prompt_number": 22
    },
    {
     "cell_type": "code",
     "collapsed": false,
     "input": [
      "model.most_similar(positive=['sushi', 'Germany'], negative=['Japan'])"
     ],
     "language": "python",
     "metadata": {},
     "outputs": [
      {
       "metadata": {},
       "output_type": "pyout",
       "prompt_number": 23,
       "text": [
        "[(u'Wiener_schnitzel', 0.5838432312011719),\n",
        " (u'wiener_schnitzel', 0.5730941891670227),\n",
        " (u'schnitzel', 0.5727653503417969),\n",
        " (u'weisswurst', 0.5577686429023743),\n",
        " (u'schnitzels', 0.5427553653717041),\n",
        " (u'charcuterie', 0.542153000831604),\n",
        " (u'wursts', 0.5338369607925415),\n",
        " (u'sauerbraten', 0.5294359922409058),\n",
        " (u'wurst', 0.5267575979232788),\n",
        " (u'currywurst', 0.5257701873779297)]"
       ]
      }
     ],
     "prompt_number": 23
    },
    {
     "cell_type": "code",
     "collapsed": false,
     "input": [
      "model.most_similar(positive=['sushi', 'France'], negative=['Japan'])"
     ],
     "language": "python",
     "metadata": {},
     "outputs": [
      {
       "metadata": {},
       "output_type": "pyout",
       "prompt_number": 24,
       "text": [
        "[(u'croque_monsieur', 0.6099806427955627),\n",
        " (u'plat_du_jour', 0.6048351526260376),\n",
        " (u'baguettes', 0.6035820841789246),\n",
        " (u'moules', 0.5975416898727417),\n",
        " (u'cassoulet', 0.5969409942626953),\n",
        " (u'baguette', 0.596493661403656),\n",
        " (u'bouillabaisse', 0.5924673080444336),\n",
        " (u'frites', 0.5884311199188232),\n",
        " (u'Parisian_bistro', 0.5867328643798828),\n",
        " (u'bistrot', 0.5854848623275757)]"
       ]
      }
     ],
     "prompt_number": 24
    },
    {
     "cell_type": "code",
     "collapsed": false,
     "input": [
      "model.most_similar(positive=['sushi', 'USA'], negative=['Japan'])"
     ],
     "language": "python",
     "metadata": {},
     "outputs": [
      {
       "metadata": {},
       "output_type": "pyout",
       "prompt_number": 25,
       "text": [
        "[(u'burger', 0.47294312715530396),\n",
        " (u'sandwiches', 0.4690607786178589),\n",
        " (u'sandwich', 0.4660155773162842),\n",
        " (u'gourmet_pizza', 0.46554532647132874),\n",
        " (u'pizza_calzones', 0.45819687843322754),\n",
        " (u'Angelini_Osteria', 0.4552556872367859),\n",
        " (u'salad', 0.45183175802230835),\n",
        " (u'Niman_Ranch_beef', 0.45097458362579346),\n",
        " (u'Fette_Sau', 0.45036929845809937),\n",
        " (u'burgers_salads', 0.44734442234039307)]"
       ]
      }
     ],
     "prompt_number": 25
    },
    {
     "cell_type": "code",
     "collapsed": false,
     "input": [
      "model.most_similar(positive=['Beijing', 'Russia'], negative=['China'])"
     ],
     "language": "python",
     "metadata": {},
     "outputs": [
      {
       "metadata": {},
       "output_type": "pyout",
       "prompt_number": 29,
       "text": [
        "[(u'Moscow', 0.8646622896194458),\n",
        " (u'Kremlin', 0.7143909931182861),\n",
        " (u'Tbilisi', 0.6708438396453857),\n",
        " (u'Kiev', 0.6676636338233948),\n",
        " (u'Russian', 0.6646864414215088),\n",
        " (u'Minsk', 0.6415616273880005),\n",
        " (u'Putin', 0.6333817839622498),\n",
        " (u'Ukraine', 0.6287436485290527),\n",
        " (u'Russians', 0.6244307160377502),\n",
        " (u'Belarus', 0.6203650236129761)]"
       ]
      }
     ],
     "prompt_number": 29
    },
    {
     "cell_type": "code",
     "collapsed": false,
     "input": [
      "model.most_similar(positive=['Beijing', 'Japan'], negative=['China'])"
     ],
     "language": "python",
     "metadata": {},
     "outputs": [
      {
       "metadata": {},
       "output_type": "pyout",
       "prompt_number": 30,
       "text": [
        "[(u'Tokyo', 0.8115593791007996),\n",
        " (u'Osaka', 0.6796455383300781),\n",
        " (u'Seoul', 0.6568830609321594),\n",
        " (u'Japanese', 0.6475988626480103),\n",
        " (u'Nagoya', 0.6425851583480835),\n",
        " (u'Maebashi', 0.6409164667129517),\n",
        " (u'Yokohama', 0.6262893676757812),\n",
        " (u'Fukuoka', 0.6085070371627808),\n",
        " (u'Osaka_Japan', 0.606758713722229),\n",
        " (u'Sapporo', 0.6054472923278809)]"
       ]
      }
     ],
     "prompt_number": 30
    },
    {
     "cell_type": "code",
     "collapsed": false,
     "input": [
      "model.most_similar(positive=['Beijing', 'Poland'], negative=['China'])"
     ],
     "language": "python",
     "metadata": {},
     "outputs": [
      {
       "metadata": {},
       "output_type": "pyout",
       "prompt_number": 32,
       "text": [
        "[(u'Warsaw', 0.7009754180908203),\n",
        " (u'Prague', 0.6499823331832886),\n",
        " (u'Polish', 0.6488382816314697),\n",
        " (u'Budapest', 0.6402565240859985),\n",
        " (u'Krakow', 0.6191353797912598),\n",
        " (u'Bratislava', 0.602115273475647),\n",
        " (u'Vilnius', 0.5941131711006165),\n",
        " (u'Czech_Republic', 0.5820773243904114),\n",
        " (u'Warsaw_Gdansk', 0.5750331878662109),\n",
        " (u'Pozna\\u0144', 0.5748992562294006)]"
       ]
      }
     ],
     "prompt_number": 32
    },
    {
     "cell_type": "code",
     "collapsed": false,
     "input": [
      "model.most_similar(positive=['Beijing', 'Germany'], negative=['China'])"
     ],
     "language": "python",
     "metadata": {},
     "outputs": [
      {
       "metadata": {},
       "output_type": "pyout",
       "prompt_number": 33,
       "text": [
        "[(u'Berlin', 0.7202242612838745),\n",
        " (u'Munich', 0.7059080004692078),\n",
        " (u'Dusseldorf', 0.6673773527145386),\n",
        " (u'Cologne', 0.6633880138397217),\n",
        " (u'Leipzig', 0.632694661617279),\n",
        " (u'Frankfurt', 0.6314069032669067),\n",
        " (u'Munich_Germany', 0.6266558170318604),\n",
        " (u'German', 0.6265211701393127),\n",
        " (u'Austria', 0.6233247518539429),\n",
        " (u'Stuttgart', 0.6120568513870239)]"
       ]
      }
     ],
     "prompt_number": 33
    },
    {
     "cell_type": "code",
     "collapsed": false,
     "input": [
      "model.most_similar(positive=['Beijing', 'France'], negative=['China'])"
     ],
     "language": "python",
     "metadata": {},
     "outputs": [
      {
       "metadata": {},
       "output_type": "pyout",
       "prompt_number": 34,
       "text": [
        "[(u'Paris', 0.7213079333305359),\n",
        " (u'French', 0.623708188533783),\n",
        " (u'Colombes', 0.6085582375526428),\n",
        " (u'Marseille', 0.5966455936431885),\n",
        " (u'Melun', 0.5886248350143433),\n",
        " (u'Aix_en_Provence', 0.5781102180480957),\n",
        " (u'Issy_les_Moulineaux', 0.5776772499084473),\n",
        " (u'Montpellier', 0.5738121867179871),\n",
        " (u'Toulouse', 0.5707192420959473),\n",
        " (u'Nantes', 0.5658742785453796)]"
       ]
      }
     ],
     "prompt_number": 34
    },
    {
     "cell_type": "code",
     "collapsed": false,
     "input": [
      "model.most_similar(positive=['Beijing', 'Italy'], negative=['China'])"
     ],
     "language": "python",
     "metadata": {},
     "outputs": [
      {
       "metadata": {},
       "output_type": "pyout",
       "prompt_number": 35,
       "text": [
        "[(u'Turin', 0.6654064655303955),\n",
        " (u'Rome', 0.6643825769424438),\n",
        " (u'Milan', 0.6463647484779358),\n",
        " (u'Italian', 0.6389298439025879),\n",
        " (u'Italians', 0.6012134552001953),\n",
        " (u'Bologna', 0.6002976894378662),\n",
        " (u'Turin_Italy', 0.595194935798645),\n",
        " (u'Sicily', 0.5913180112838745),\n",
        " (u'Palermo_Sicily', 0.5893950462341309),\n",
        " (u'Val_Di_Fiemme', 0.5761504173278809)]"
       ]
      }
     ],
     "prompt_number": 35
    },
    {
     "cell_type": "code",
     "collapsed": false,
     "input": [
      "model.most_similar(positive=['Beijing', 'Greece'], negative=['China'])"
     ],
     "language": "python",
     "metadata": {},
     "outputs": [
      {
       "metadata": {},
       "output_type": "pyout",
       "prompt_number": 36,
       "text": [
        "[(u'Athens', 0.7107490301132202),\n",
        " (u'Greek', 0.6379308700561523),\n",
        " (u'Greeks', 0.6137858629226685),\n",
        " (u'Athens_Greece', 0.6063570976257324),\n",
        " (u'Iraklion', 0.5916062593460083),\n",
        " (u'Thessaloniki', 0.5813091993331909),\n",
        " (u'Mykonos_Island', 0.5800708532333374),\n",
        " (u'Venizelos', 0.5800216197967529),\n",
        " (u'Tsartas', 0.5774103403091431),\n",
        " (u'Mayor_Dora_Bakoyannis', 0.572969913482666)]"
       ]
      }
     ],
     "prompt_number": 36
    },
    {
     "cell_type": "code",
     "collapsed": false,
     "input": [
      "model.most_similar(positive=['Beijing', 'Spain'], negative=['China'])"
     ],
     "language": "python",
     "metadata": {},
     "outputs": [
      {
       "metadata": {},
       "output_type": "pyout",
       "prompt_number": 37,
       "text": [
        "[(u'Madrid', 0.7469539642333984),\n",
        " (u'Barcelona', 0.6806047558784485),\n",
        " (u'Seville', 0.621259868144989),\n",
        " (u'San_Sebasti\\xe1n', 0.6180102825164795),\n",
        " (u'Catalonia', 0.6018795371055603),\n",
        " (u'Malaga', 0.5958230495452881),\n",
        " (u'Catalan', 0.5910037755966187),\n",
        " (u'Spaniards', 0.5888459086418152),\n",
        " (u'Mallorca', 0.5861931443214417),\n",
        " (u'Bilbao', 0.5815985202789307)]"
       ]
      }
     ],
     "prompt_number": 37
    },
    {
     "cell_type": "code",
     "collapsed": false,
     "input": [
      "model.most_similar(positive=['Steve_Ballmer', 'Apple'], negative=['Microsoft'])"
     ],
     "language": "python",
     "metadata": {},
     "outputs": [
      {
       "metadata": {},
       "output_type": "pyout",
       "prompt_number": 44,
       "text": [
        "[(u'Steve_Jobs', 0.7575128078460693),\n",
        " (u'Eric_Schmidt', 0.6014548540115356),\n",
        " (u'Apple_AAPL', 0.5867894887924194),\n",
        " (u'Paul_Otellini', 0.5602341890335083),\n",
        " (u'iPhone', 0.548734724521637),\n",
        " (u'Phil_Schiller', 0.5444366931915283),\n",
        " (u'Apple_Nasdaq_AAPL', 0.544266939163208),\n",
        " (u'Apple_NSDQ_AAPL', 0.5417361259460449),\n",
        " (u'Apple_NASDAQ_AAPL', 0.535469114780426),\n",
        " (u'Randall_Stephenson', 0.5343968868255615)]"
       ]
      }
     ],
     "prompt_number": 44
    },
    {
     "cell_type": "code",
     "collapsed": false,
     "input": [
      "model.most_similar(positive=['Steve_Ballmer', 'Google'], negative=['Microsoft'])"
     ],
     "language": "python",
     "metadata": {},
     "outputs": [
      {
       "metadata": {},
       "output_type": "pyout",
       "prompt_number": 45,
       "text": [
        "[(u'Eric_Schmidt', 0.7539467811584473),\n",
        " (u'Google_GOOG', 0.6201810240745544),\n",
        " (u'Steve_Jobs', 0.6188480854034424),\n",
        " (u'Google_Nasdaq_GOOG', 0.5890085697174072),\n",
        " (u'Yahoo', 0.5710864663124084),\n",
        " (u'Google_NSDQ_GOOG', 0.5613577365875244),\n",
        " (u'search_engine', 0.5596145987510681),\n",
        " (u'Ballmer', 0.5573574304580688),\n",
        " (u'Patrick_Pichette', 0.5523941516876221),\n",
        " (u'Mark_Zuckerberg', 0.5502157807350159)]"
       ]
      }
     ],
     "prompt_number": 45
    },
    {
     "cell_type": "code",
     "collapsed": false,
     "input": [
      "model.most_similar(positive=['Steve_Ballmer', 'IBM'], negative=['Microsoft'])"
     ],
     "language": "python",
     "metadata": {},
     "outputs": [
      {
       "metadata": {},
       "output_type": "pyout",
       "prompt_number": 46,
       "text": [
        "[(u'Sam_Palmisano', 0.6555251479148865),\n",
        " (u'CEO_Sam_Palmisano', 0.6234533786773682),\n",
        " (u'Samuel_Palmisano', 0.5943498611450195),\n",
        " (u'Lou_Gerstner', 0.5725748538970947),\n",
        " (u'Paul_Otellini', 0.5543473958969116),\n",
        " (u'International_Business_Machines', 0.5462231636047363),\n",
        " (u'Louis_Gerstner', 0.5335443615913391),\n",
        " (u'Mark_Loughridge', 0.5326536893844604),\n",
        " (u'Chief_Executive_Samuel_Palmisano', 0.5307983756065369),\n",
        " (u'Scott_McNealy', 0.526638925075531)]"
       ]
      }
     ],
     "prompt_number": 46
    },
    {
     "cell_type": "code",
     "collapsed": false,
     "input": [
      "model.most_similar(positive=['Steve_Ballmer', 'Amazon'], negative=['Microsoft'])"
     ],
     "language": "python",
     "metadata": {},
     "outputs": [
      {
       "metadata": {},
       "output_type": "pyout",
       "prompt_number": 47,
       "text": [
        "[(u'Amazon.com', 0.5657470226287842),\n",
        " (u'Jeff_Bezos', 0.5619904398918152),\n",
        " (u'Jeffrey_Bezos', 0.5367931127548218),\n",
        " (u'Cristiano_Veloso', 0.5145506262779236),\n",
        " (u'Werner_Vogels', 0.5034885406494141),\n",
        " (u'Jeff_Bezos_founder', 0.5028522610664368),\n",
        " (u'Pantanal_Lodges', 0.49930688738822937),\n",
        " (u'CTO_Werner_Vogels', 0.4982612729072571),\n",
        " (u'Kindle_ebook_reader', 0.4973258376121521),\n",
        " (u'ISBN_#-###-#####-#_Buy', 0.4894053041934967)]"
       ]
      }
     ],
     "prompt_number": 47
    },
    {
     "cell_type": "code",
     "collapsed": false,
     "input": [
      "model.most_similar(positive=['Czech', 'currency'])"
     ],
     "language": "python",
     "metadata": {},
     "outputs": [
      {
       "metadata": {},
       "output_type": "pyout",
       "prompt_number": 48,
       "text": [
        "[(u'Slovak', 0.6843216419219971),\n",
        " (u'Polish_zloty', 0.6805776357650757),\n",
        " (u'koruna', 0.6530683040618896),\n",
        " (u'Czech_koruna', 0.6461406350135803),\n",
        " (u'euro', 0.6403048038482666),\n",
        " (u'ruble', 0.6268415451049805),\n",
        " (u'forint', 0.6260942816734314),\n",
        " (u'zloty', 0.6182205677032471),\n",
        " (u'Slovak_koruna', 0.6174337863922119),\n",
        " (u'Slovakian', 0.6162811517715454)]"
       ]
      }
     ],
     "prompt_number": 48
    },
    {
     "cell_type": "code",
     "collapsed": false,
     "input": [
      "model.most_similar(positive=['Vietnam', 'capital'])"
     ],
     "language": "python",
     "metadata": {},
     "outputs": [
      {
       "metadata": {},
       "output_type": "pyout",
       "prompt_number": 49,
       "text": [
        "[(u'Viet_Nam', 0.6114367246627808),\n",
        " (u'While_Megi_bypassed', 0.5968701839447021),\n",
        " (u'Hanoi', 0.5894399881362915),\n",
        " (u'Typhoon_Ketsana_roars', 0.5755254030227661),\n",
        " (u'Indochina', 0.5710008144378662),\n",
        " (u'HANOI_Thomson_Financial', 0.5458343625068665),\n",
        " (u'Vietnamese', 0.5425796508789062),\n",
        " (u'Tropical_Storm_Mirinae_unleashed', 0.5387153625488281),\n",
        " (u'DongA_Bank', 0.5378859043121338),\n",
        " (u'VND##tril', 0.5364781022071838)]"
       ]
      }
     ],
     "prompt_number": 49
    },
    {
     "cell_type": "code",
     "collapsed": false,
     "input": [
      "model.most_similar(positive=['German', 'airlines'])"
     ],
     "language": "python",
     "metadata": {},
     "outputs": [
      {
       "metadata": {},
       "output_type": "pyout",
       "prompt_number": 50,
       "text": [
        "[(u'Lufthansa', 0.6879513263702393),\n",
        " (u'airline', 0.6311957240104675),\n",
        " (u'Germanwings', 0.6181661486625671),\n",
        " (u'Deutsche_Lufthansa_AG_LHA.XE', 0.6176519989967346),\n",
        " (u'Deutsche_Lufthansa', 0.6141735315322876),\n",
        " (u'Air_Polonia', 0.6062092185020447),\n",
        " (u'Deutsche_Lufthansa_AG', 0.5986666679382324),\n",
        " (u'\\u010cSA', 0.5924460291862488),\n",
        " (u'Lufthansa_############', 0.5868748426437378),\n",
        " (u'Lufthansa_LHAG.DE', 0.58547443151474)]"
       ]
      }
     ],
     "prompt_number": 50
    },
    {
     "cell_type": "code",
     "collapsed": false,
     "input": [
      "model.most_similar(positive=['woman', 'emperor'], negative=['man'])"
     ],
     "language": "python",
     "metadata": {},
     "outputs": [
      {
       "metadata": {},
       "output_type": "pyout",
       "prompt_number": 63,
       "text": [
        "[(u'empress', 0.6470328569412231),\n",
        " (u'emperors', 0.6074110269546509),\n",
        " (u'Emperor', 0.5940502882003784),\n",
        " (u'empresses', 0.5697327852249146),\n",
        " (u'Wu_Zetian', 0.5530362129211426),\n",
        " (u'imperial_throne', 0.5474317669868469),\n",
        " (u'Empress_Dowager_Cixi', 0.5443990230560303),\n",
        " (u'Queen_Consort', 0.5418636798858643),\n",
        " (u'imperial', 0.5319660902023315),\n",
        " (u'Imperial_Household', 0.5288584232330322)]"
       ]
      }
     ],
     "prompt_number": 63
    },
    {
     "cell_type": "code",
     "collapsed": false,
     "input": [
      "model.most_similar(positive=['woman', 'brother'], negative=['man'])"
     ],
     "language": "python",
     "metadata": {},
     "outputs": [
      {
       "metadata": {},
       "output_type": "pyout",
       "prompt_number": 65,
       "text": [
        "[(u'sister', 0.8103214502334595),\n",
        " (u'daughter', 0.764675498008728),\n",
        " (u'mother', 0.7524207234382629),\n",
        " (u'son', 0.7238258123397827),\n",
        " (u'niece', 0.7215942144393921),\n",
        " (u'husband', 0.7141484022140503),\n",
        " (u'father', 0.7066071033477783),\n",
        " (u'aunt', 0.6844728589057922),\n",
        " (u'cousin', 0.6844366788864136),\n",
        " (u'eldest_daughter', 0.6790662407875061)]"
       ]
      }
     ],
     "prompt_number": 65
    },
    {
     "cell_type": "code",
     "collapsed": false,
     "input": [
      "# Athens Greece Oslo Norway\n",
      "# Chicago Illinois Stockton California\n",
      "# brother sister grandson granddaughter\n",
      "# apparent apparently rapid rapidly\n",
      "# possibly impossibly ethical unethical\n",
      "# great greater tough tougher\n",
      "# easy easiest lucky luckiest\n",
      "# think thinking read reading\n",
      "# walking walked swimming swam\n",
      "# mouse mice dollar dollars\n",
      "# France - Paris Italy: Rome Japan: Tokyo Florida: Tallahassee\n",
      "# big - bigger small: larger cold: colder quick: quicker\n",
      "# Miami - Florida Baltimore: Maryland Dallas: Texas Kona: Hawaii\n",
      "# Einstein - scientist Messi: midfielder Mozart: violinist Picasso: painter\n",
      "# Sarkozy - France Berlusconi: Italy Merkel: Germany Koizumi: Japan\n",
      "# copper - Cu zinc: Zn gold: Au uranium: plutonium\n",
      "# Berlusconi - Silvio Sarkozy: Nicolas Putin: Medvedev Obama: Barack\n",
      "# Microsoft - Windows Google: Android IBM: Linux Apple: iPhone\n",
      "# Microsoft - Ballmer Google: Yahoo IBM: McNealy Apple: Jobs\n",
      "# Japan - sushi Germany: bratwurst France: tapas USA: pizza\n"
     ],
     "language": "python",
     "metadata": {},
     "outputs": []
    },
    {
     "cell_type": "code",
     "collapsed": false,
     "input": [
      "model.most_similar(positive=['biggest', 'small'], negative=['big'])"
     ],
     "language": "python",
     "metadata": {},
     "outputs": []
    },
    {
     "cell_type": "code",
     "collapsed": false,
     "input": [
      "model.most_similar(positive=['biggest', 'small'], negative=['big'])"
     ],
     "language": "python",
     "metadata": {},
     "outputs": []
    },
    {
     "cell_type": "code",
     "collapsed": false,
     "input": [
      "model.most_similar(positive=['biggest', 'small'], negative=['big'])"
     ],
     "language": "python",
     "metadata": {},
     "outputs": []
    },
    {
     "cell_type": "code",
     "collapsed": false,
     "input": [
      "model.doesnt_match(\"breakfast cereal dinner lunch\".split())"
     ],
     "language": "python",
     "metadata": {},
     "outputs": [
      {
       "metadata": {},
       "output_type": "pyout",
       "prompt_number": 5,
       "text": [
        "'cereal'"
       ]
      }
     ],
     "prompt_number": 5
    },
    {
     "cell_type": "code",
     "collapsed": false,
     "input": [
      "model.similarity('woman', 'man')"
     ],
     "language": "python",
     "metadata": {},
     "outputs": [
      {
       "metadata": {},
       "output_type": "pyout",
       "prompt_number": 6,
       "text": [
        "0.76640122344103201"
       ]
      }
     ],
     "prompt_number": 6
    },
    {
     "cell_type": "code",
     "collapsed": false,
     "input": [],
     "language": "python",
     "metadata": {},
     "outputs": []
    }
   ],
   "metadata": {}
  }
 ]
}